{
  "cells": [
    {
      "cell_type": "markdown",
      "metadata": {
        "id": "view-in-github",
        "colab_type": "text"
      },
      "source": [
        "<a href=\"https://colab.research.google.com/github/navidbagheri7/IML-CHW2/blob/main/Question2.ipynb\" target=\"_parent\"><img src=\"https://colab.research.google.com/assets/colab-badge.svg\" alt=\"Open In Colab\"/></a>"
      ]
    },
    {
      "cell_type": "markdown",
      "metadata": {
        "id": "un_07izr0mCO"
      },
      "source": [
        "<h1 align=\"center\">An Introduction to Machine Learning - 25737</h1>\n",
        "<h4 align=\"center\">Dr. Sajjad Amini</h4>\n",
        "<h4 align=\"center\">Sharif University of Technology, Spring 2023</h4>\n",
        "\n",
        "**Student Name**: Navid Bagheri\n",
        "\n",
        "**Student ID**: 99109658\n",
        "\n",
        "# Effect of Overfitting\n",
        "\n",
        "In this exercise, we want to examine the effect of **overfitting**. As you learned in class, using too many features in training can result in a model with very low loss on the training set but high loss on the validation and test set. For this purpose, we have prepared a dataset in the `q2-train.npy`, `q2-valid.npy`, and `q2-test.npy` files for you. We know that `y` is a polynomial function of `x` in this dataset, meaning that \n",
        "\n",
        "$$\n",
        "y = \\sum_{i=0}^{k}a_ix^i\n",
        "$$\n",
        "\n",
        "However, we do not know the exact value of `k`."
      ]
    },
    {
      "cell_type": "markdown",
      "metadata": {
        "id": "rcSNUeqT158e"
      },
      "source": [
        "## Importing Libraries\n",
        "\n",
        "First, we import the necessary libraries for this assignment. Please note that you should only use these libraries and no other libraries are acceptable."
      ]
    },
    {
      "cell_type": "code",
      "execution_count": 1,
      "metadata": {
        "id": "UitW8b0J0jBa"
      },
      "outputs": [],
      "source": [
        "import numpy as np\n",
        "import matplotlib.pyplot as plt"
      ]
    },
    {
      "cell_type": "markdown",
      "metadata": {
        "id": "Q1x7BaU22F4k"
      },
      "source": [
        "## Reading Data and Preprocessing\n",
        "\n",
        "In this part of the assignment, you should read data from the `.npy` files. The data in `q2-train.npy` file is your training set and should be stored in the `X_train` and `Y_train` variables. Similarly, the data in `q2-valid.npy` file is your validation set, and the data in `q2-test.npy` file is your test set, which should be stored in `X_val`, `Y_val`, `X_test`, and `Y_test` respectively. You can use the `np.load` function to read the `.npy` files."
      ]
    },
    {
      "cell_type": "code",
      "execution_count": 3,
      "metadata": {
        "id": "dDMeq10G2m0U"
      },
      "outputs": [],
      "source": [
        "X_train, Y_train, X_val, Y_val, X_test, Y_test = None, None, None, None, None, None\n",
        "\n",
        "### START CODE HERE ###\n",
        "train = np.load('q2-train.npy')\n",
        "valid = np.load('q2-valid.npy')\n",
        "test = np.load('q2-test.npy')\n",
        "\n",
        "X_train = train[:,0]\n",
        "Y_train = train[:,1]\n",
        "\n",
        "X_val = valid[:,0]\n",
        "Y_val = valid[:,1]\n",
        "\n",
        "X_test = test[:,0]\n",
        "Y_test = test[:,1]\n",
        "\n",
        "### END CODE HERE ###"
      ]
    },
    {
      "cell_type": "markdown",
      "metadata": {
        "id": "nyXpEfEa3Gw-"
      },
      "source": [
        "To find the best value of `k`, we want to change `k` from 1 to 12 and examine its effect on the validation set, and then choose the right value of `k`. For this purpose, we need to create a matrix with columns equal to $x^0$, $x^1$, $x^2$, ..., $x^k$ for every value of `k`. You can complete the following function to do this job. The function takes an $m \\times 1$ vector `X` containing values of input `x` and returns an $m \\times (k+1)$ matrix that has the properties mentioned above."
      ]
    },
    {
      "cell_type": "code",
      "execution_count": 4,
      "metadata": {
        "id": "DXw2tPO84Ksp"
      },
      "outputs": [],
      "source": [
        "def create_matrix(X,K):\n",
        "  '''\n",
        "  X: an m by 1 array \n",
        "  '''\n",
        "  new_X = None\n",
        "  ### START CODE HERE ###\n",
        "  new_X = np.zeros((len(X),K+1))\n",
        "  for m in range(len(X)):\n",
        "    for k in range(K+1):\n",
        "      new_X[m,k] = X[m]**k\n",
        "  ### END CODE HERE ###\n",
        "  return new_X"
      ]
    },
    {
      "cell_type": "markdown",
      "metadata": {
        "id": "WCTuye7C5Aq3"
      },
      "source": [
        "## Validate Model\n",
        "\n",
        "Now, we want to train our model for every value of `k`. You can use any of the methods that we used in **Question 1** (gradient descent or direct calculation) for this purpose. The following function trains our model on the training set for a given value of `k`, and then returns the loss on the training set and validation set, as well as the weight vector `w`."
      ]
    },
    {
      "cell_type": "code",
      "execution_count": null,
      "metadata": {
        "id": "9lfWITgf7yQH"
      },
      "outputs": [],
      "source": [
        "# If you need any other function for training write it here\n",
        "# (like gradient descent or anything else)"
      ]
    },
    {
      "cell_type": "code",
      "source": [
        "def loss(X, Y, w):\n",
        "  m, n = X.shape\n",
        "  loss = None\n",
        "  loss = (1/m)*np.linalg.norm((np.matmul(X,w) - Y),2)**2\n",
        "  return loss"
      ],
      "metadata": {
        "id": "qmJ-b6hnLVWK"
      },
      "execution_count": 5,
      "outputs": []
    },
    {
      "cell_type": "code",
      "source": [
        "def direct_method(X, Y):\n",
        "  w = None\n",
        "  w = np.linalg.pinv(X) @ Y\n",
        "  return w"
      ],
      "metadata": {
        "id": "BX3nuRGcLuB5"
      },
      "execution_count": 6,
      "outputs": []
    },
    {
      "cell_type": "code",
      "execution_count": 7,
      "metadata": {
        "id": "JaIs631q508z"
      },
      "outputs": [],
      "source": [
        "def train(X_train, Y_train, X_val, Y_val, k):\n",
        "  '''\n",
        "  X_train: an m_train by 1 vector contains training points\n",
        "  Y_train: an m_train by 1 vector contains training values\n",
        "  X_val: an m_val by 1 vector contains validation points\n",
        "  Y_val: an m_val by 1 vector contains validation values\n",
        "  k: degree of polynomial\n",
        "  '''\n",
        "  w, loss_train, loss_val = None, None, None\n",
        "  ### START CODE HERE ###\n",
        "  X_train_matrix = create_matrix(X_train,k)\n",
        "  X_val_matrix = create_matrix(X_val,k)\n",
        "\n",
        "  w = direct_method(X_train_matrix, Y_train)\n",
        "\n",
        "  loss_train = loss(X_train_matrix,Y_train,w)\n",
        "  loss_val = loss(X_val_matrix,Y_val,w)\n",
        "  ### END CODE HERE ###\n",
        "  return w, loss_train, loss_val"
      ]
    },
    {
      "cell_type": "markdown",
      "metadata": {
        "id": "eAsZfxCu6YEf"
      },
      "source": [
        "In the cell below, you can change the value of `k` between 1 and 12 and plot the loss on the training and validation set as a function of `k` in the same plot.\n",
        "\n",
        "**Question**: Discuss about the effect of $k$.\n",
        "\n",
        "**Answer**:\n",
        "وقتی درجه چند جمله‌ای فیت شده را بالا می‌بریم در اصل مدل پیچیده‌تری انتخاب می‌کنیم که ممکن است باعث اورفیتینگ شود\n",
        "در این حالت با اینکه مقدار خطا در بخش آموزش همواره کاهش می‌یابد اما در هنگام اعتبارسنجی می‌بینیم که خطا ناگهان افزایش می‌یابد بنابراین باید یک مقدار بهینه‌ای را برای درجه چند جمله‌ای انتخاب کنیم تا هر دو مقدار خطا کم باشد\n"
      ]
    },
    {
      "cell_type": "code",
      "execution_count": 8,
      "metadata": {
        "id": "knUTXtOv66Wx",
        "colab": {
          "base_uri": "https://localhost:8080/",
          "height": 472
        },
        "outputId": "fdfacc04-144d-4c95-996f-be3f0eb8f8d9"
      },
      "outputs": [
        {
          "output_type": "display_data",
          "data": {
            "text/plain": [
              "<Figure size 640x480 with 1 Axes>"
            ],
            "image/png": "[encoded data removed]"
          },
          "metadata": {}
        }
      ],
      "source": [
        "### START CODE HERE ###\n",
        "k = np.arange(1,13,1)\n",
        "validation_loss = []\n",
        "train_loss = []\n",
        "for i in (k):\n",
        "  w , loss_train , loss_val = train(X_train, Y_train, X_val, Y_val, i)\n",
        "  validation_loss.append(loss_val)\n",
        "  train_loss.append(loss_train)\n",
        "\n",
        "plt.plot(k,train_loss,marker = '.')\n",
        "plt.plot(k,validation_loss,marker = '.')\n",
        "plt.title('Training & Validation Loss With Different Polynomial Degree');\n",
        "plt.xlabel('Plolynomial Degree k');\n",
        "plt.ylabel('Loss');\n",
        "plt.legend(['training loss','validation loss']);\n",
        "\n",
        "### END CODE HERE ###"
      ]
    },
    {
      "cell_type": "markdown",
      "metadata": {
        "id": "K0M1d2Ez7JLJ"
      },
      "source": [
        "## Evaluating Model\n",
        "\n",
        "In the cell below find the loss of your best model on the test set.\n",
        "\n",
        "**Question**: Why we need test set?\n",
        "\n",
        "**Answer**:\n",
        "همانطور که می‌دانیم در واقعیت مقدار ولیدیشن ست از همان دیتاست اصلی ما است ولی لزوما مقدار تست ست از دیتاست ما نبوده و داده‌های جدیدی می‌توانند باشند همچنین از ولیدیشن ست برای پیدا کردن و فیت کردن پارامترهای مناسب مدل استفاده می‌کنیم اما از تست ست تنها برای ارزیابی عملکرد مدل استفاده می‌کنیم"
      ]
    },
    {
      "cell_type": "code",
      "execution_count": 12,
      "metadata": {
        "id": "Ex1P5H0A7emE",
        "colab": {
          "base_uri": "https://localhost:8080/"
        },
        "outputId": "efef2e6f-4f09-4d6d-e83c-2f13c776656d"
      },
      "outputs": [
        {
          "output_type": "stream",
          "name": "stdout",
          "text": [
            "The loss of our best model on the test set is: 0.11791424797244182\n"
          ]
        }
      ],
      "source": [
        "### START CODE HERE ###\n",
        "best_k = 8\n",
        "w , loss_train , loss_val = train(X_train, Y_train, X_val, Y_val, best_k)\n",
        "loss_test = loss(create_matrix(X_test,best_k),Y_test,w)\n",
        "print('The loss of our best model on the test set is:',loss_test)\n",
        "### END CODE HERE ###"
      ]
    },
    {
      "cell_type": "markdown",
      "source": [
        "Besk k = 8\n",
        "\n",
        "همانطور که مشاهده می‌کنیم به ازای مقدار هشت هر دو مقدار خطا در ولیدیشن و آموزش کمینه می‌باشد"
      ],
      "metadata": {
        "id": "-N-kZRy5gJJP"
      }
    }
  ],
  "metadata": {
    "colab": {
      "provenance": [],
      "include_colab_link": true
    },
    "kernelspec": {
      "display_name": "Python 3",
      "name": "python3"
    },
    "language_info": {
      "name": "python"
    }
  },
  "nbformat": 4,
  "nbformat_minor": 0
}